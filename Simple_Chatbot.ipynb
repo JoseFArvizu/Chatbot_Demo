{
 "cells": [
  {
   "cell_type": "markdown",
   "id": "32b73cd7-547c-482e-b11b-12f45c25e5be",
   "metadata": {},
   "source": [
    "## Setting up API"
   ]
  },
  {
   "cell_type": "code",
   "execution_count": 1,
   "id": "1a63c600-141f-41f8-b8a5-907866d4ead7",
   "metadata": {},
   "outputs": [],
   "source": [
    "import openai\n",
    "import config"
   ]
  },
  {
   "cell_type": "code",
   "execution_count": 2,
   "id": "7c7d999d-a5c7-4fbf-8054-bc303ad79ce9",
   "metadata": {},
   "outputs": [],
   "source": [
    "api_key = config.api_key"
   ]
  },
  {
   "cell_type": "code",
   "execution_count": 3,
   "id": "bf5d32cc-a508-4db1-b101-a5736e0233f9",
   "metadata": {},
   "outputs": [],
   "source": [
    "openai.api_key = api_key"
   ]
  },
  {
   "cell_type": "markdown",
   "id": "373d2383-1d00-4a26-a6ef-045853001e4f",
   "metadata": {},
   "source": [
    "## Setting up chatbot"
   ]
  },
  {
   "cell_type": "code",
   "execution_count": 6,
   "id": "4d8c1952-76a3-4df9-850a-83ee2063b7c5",
   "metadata": {},
   "outputs": [],
   "source": [
    "def chatbot(prompt):\n",
    "    response = openai.ChatCompletion.create(\n",
    "        model = \"gpt-3.5-turbo\",\n",
    "        messages = [\n",
    "            {\n",
    "                \"role\": \"system\",\n",
    "                \"content\": \"You are a smart and friendly assistant who gives clear, concise, and helpful answers. Speak in a warm, approachable tone.\"\n",
    "            },\n",
    "            {\n",
    "                \"role\": \"user\",\n",
    "                \"content\": \"When was Google founded?\"\n",
    "            },\n",
    "            {\n",
    "                \"role\": \"assistant\",\n",
    "                \"content\": \"Google was founded in September 1998 by Larry Page and Sergey Brin while they were Ph.D. students at Stanford University.\"\n",
    "            },\n",
    "            {\n",
    "                \"role\": \"user\",\n",
    "                \"content\": \"Which country has the youngest president?\"\n",
    "            },\n",
    "            {\n",
    "                \"role\": \"assistant\",\n",
    "                \"content\": \"As of now, the country with the youngest serving president is often Finland or Chile, depending on the current officeholder's age and term. Leaders like Gabriel Boric of Chile have taken office in their 30s.\"\n",
    "            },\n",
    "            {\n",
    "                \"role\": \"user\",\n",
    "                \"content\": prompt\n",
    "            }\n",
    "        ],\n",
    "        temperature = 1,\n",
    "        max_tokens = 256\n",
    "    )\n",
    "    return response.choices[0].message.content.strip()\n"
   ]
  },
  {
   "cell_type": "code",
   "execution_count": 7,
   "id": "be37ee06-d7d9-444f-8df0-f7d39e5115d5",
   "metadata": {},
   "outputs": [
    {
     "data": {
      "text/plain": [
       "'World War II was a global conflict that lasted from 1939 to 1945. It was fought between the Allies (including the United States, United Kingdom, Soviet Union, and others) and the Axis powers (including Germany, Italy, Japan, and others). The war began with the invasion of Poland by Germany in 1939 and saw major battles fought in Europe, Asia, Africa, and the Pacific. The war resulted in significant loss of life and had a lasting impact on world history, leading to the creation of the United Nations and shaping the geopolitical landscape for years to come.'"
      ]
     },
     "execution_count": 7,
     "metadata": {},
     "output_type": "execute_result"
    }
   ],
   "source": [
    "prompt = \"Can you talk me about second world war?\"\n",
    "chatbot(prompt)"
   ]
  },
  {
   "cell_type": "code",
   "execution_count": null,
   "id": "453f435a-f26c-45c1-a7b6-a34e25ea9fc2",
   "metadata": {},
   "outputs": [],
   "source": []
  }
 ],
 "metadata": {
  "kernelspec": {
   "display_name": "llms_course_env",
   "language": "python",
   "name": "llms_course_env"
  },
  "language_info": {
   "codemirror_mode": {
    "name": "ipython",
    "version": 3
   },
   "file_extension": ".py",
   "mimetype": "text/x-python",
   "name": "python",
   "nbconvert_exporter": "python",
   "pygments_lexer": "ipython3",
   "version": "3.11.11"
  }
 },
 "nbformat": 4,
 "nbformat_minor": 5
}
